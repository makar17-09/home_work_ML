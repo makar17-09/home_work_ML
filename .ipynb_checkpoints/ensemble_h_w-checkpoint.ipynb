{
 "cells": [
  {
   "cell_type": "markdown",
   "id": "822a6c2b",
   "metadata": {},
   "source": [
    "# Ансамблирование"
   ]
  },
  {
   "cell_type": "markdown",
   "id": "8b99c6bc",
   "metadata": {},
   "source": [
    "Теперь решаем задачу регрессии - предскажем цены на недвижимость. Использовать датасет www.kaggle.com...iques/data (train.csv)\n",
    "Построить случайный лес, вывести важность признаков\n",
    "Обучить стекинг как минимум 3х моделей, использовать хотя бы 1 линейную модель и 1 нелинейную"
   ]
  },
  {
   "cell_type": "code",
   "execution_count": 1,
   "id": "b4f658e3",
   "metadata": {},
   "outputs": [],
   "source": [
    "import pandas as pd\n",
    "from sklearn.model_selection import train_test_split\n",
    "from sklearn.ensemble import RandomForestRegressor\n",
    "from matplotlib import pyplot as plt\n",
    "from sklearn.ensemble import StackingRegressor\n",
    "from sklearn.linear_model import LinearRegression\n",
    "from sklearn.tree import DecisionTreeRegressor\n",
    "from sklearn.neighbors import KNeighborsRegressor\n",
    "from sklearn import svm\n",
    "from sklearn.linear_model import RidgeCV"
   ]
  },
  {
   "cell_type": "code",
   "execution_count": 2,
   "id": "cf5b9e8a",
   "metadata": {},
   "outputs": [],
   "source": [
    "data = pd.read_csv('train.csv')"
   ]
  },
  {
   "cell_type": "markdown",
   "id": "cda22f92",
   "metadata": {},
   "source": [
    "Открыла описание переменных, решила руками отобрать по-моему мнению те переменные, от которых может зависеть цена недвижимости"
   ]
  },
  {
   "cell_type": "code",
   "execution_count": 3,
   "id": "30b726bf",
   "metadata": {},
   "outputs": [],
   "source": [
    "selectedColumns = data[['MSSubClass', 'MSZoning', 'LotArea', 'HouseStyle', 'OverallQual', 'YearBuilt', 'GrLivArea', '2ndFlrSF', 'TotalBsmtSF', 'BsmtFinSF1', 'SaleCondition', 'ExterQual']]\n",
    "X = pd.get_dummies(selectedColumns, columns = ['MSSubClass', 'MSZoning', 'HouseStyle','SaleCondition', 'ExterQual'])\n",
    "y = pd.Series(data = data['SalePrice'])\n",
    "X_train, X_test, y_train, y_test = train_test_split(X, y, test_size=0.3, random_state=42)"
   ]
  },
  {
   "cell_type": "markdown",
   "id": "f4eed4d3",
   "metadata": {},
   "source": [
    "Построим случайный лес, качество не хуже, чем было на уроке"
   ]
  },
  {
   "cell_type": "code",
   "execution_count": 4,
   "id": "6dc7ccf4",
   "metadata": {},
   "outputs": [
    {
     "data": {
      "text/plain": [
       "RandomForestRegressor()"
      ]
     },
     "execution_count": 4,
     "metadata": {},
     "output_type": "execute_result"
    }
   ],
   "source": [
    "clf_rf = RandomForestRegressor()\n",
    "clf_rf.fit(X_train, y_train)"
   ]
  },
  {
   "cell_type": "code",
   "execution_count": 5,
   "id": "f1ba1553",
   "metadata": {},
   "outputs": [
    {
     "data": {
      "text/plain": [
       "0.9742740250222833"
      ]
     },
     "execution_count": 5,
     "metadata": {},
     "output_type": "execute_result"
    }
   ],
   "source": [
    "clf_rf.score(X_train, y_train)"
   ]
  },
  {
   "cell_type": "code",
   "execution_count": 6,
   "id": "d1416051",
   "metadata": {},
   "outputs": [
    {
     "data": {
      "text/plain": [
       "0.8977118156833898"
      ]
     },
     "execution_count": 6,
     "metadata": {},
     "output_type": "execute_result"
    }
   ],
   "source": [
    "clf_rf.score(X_test, y_test)"
   ]
  },
  {
   "cell_type": "markdown",
   "id": "1f5f1e0c",
   "metadata": {},
   "source": [
    "Обучим стекинг с моделями: LinearRegression, DecisionTreeRegressor, SVR. В DecisionTreeRegressor и SVR укажем параметры"
   ]
  },
  {
   "cell_type": "code",
   "execution_count": 7,
   "id": "1b4bcc65",
   "metadata": {},
   "outputs": [],
   "source": [
    "Regressor = StackingRegressor(\n",
    "    [\n",
    "        ('LinearRegression', LinearRegression()),\n",
    "        ('DecisionTreeRegressor', DecisionTreeRegressor(max_depth=8, min_samples_leaf=9, criterion='mae')),\n",
    "        ('SVR', svm.SVR(kernel=\"linear\", gamma='auto'))\n",
    "    ], RidgeCV())"
   ]
  },
  {
   "cell_type": "code",
   "execution_count": 8,
   "id": "2dc24cb3",
   "metadata": {},
   "outputs": [
    {
     "data": {
      "text/plain": [
       "StackingRegressor(estimators=[('LinearRegression', LinearRegression()),\n",
       "                              ('DecisionTreeRegressor',\n",
       "                               DecisionTreeRegressor(criterion='mae',\n",
       "                                                     max_depth=8,\n",
       "                                                     min_samples_leaf=9)),\n",
       "                              ('SVR', SVR(gamma='auto', kernel='linear'))],\n",
       "                  final_estimator=RidgeCV(alphas=array([ 0.1,  1. , 10. ])))"
      ]
     },
     "execution_count": 8,
     "metadata": {},
     "output_type": "execute_result"
    }
   ],
   "source": [
    "Regressor.fit(X_train, y_train)"
   ]
  },
  {
   "cell_type": "markdown",
   "id": "09466664",
   "metadata": {},
   "source": [
    "Качество хуже предыдущего примера и хуже того, что было разобранно на уроке. Ниже проверим с теми же моделями, что и на уроке, только у деревьев укажем параметры"
   ]
  },
  {
   "cell_type": "code",
   "execution_count": 9,
   "id": "3f98d42e",
   "metadata": {},
   "outputs": [
    {
     "name": "stdout",
     "output_type": "stream",
     "text": [
      "Score on train data 0.8334117711294041\n",
      "Score on test data 0.8661187829393344\n",
      "Score on train data with model LinearRegression 0.7939450162828887\n",
      "Score on test data with model LinearRegression 0.8345167287214925\n",
      "Score on train data with model DecisionTreeRegressor 0.8298829720946995\n",
      "Score on test data with model DecisionTreeRegressor 0.846658331951861\n",
      "Score on train data with model SVR 0.673095694196723\n",
      "Score on test data with model SVR 0.7539811034605979\n"
     ]
    }
   ],
   "source": [
    "print(f'Score on train data {Regressor.score(X_train, y_train)}')\n",
    "print(f'Score on test data {Regressor.score(X_test, y_test)}')\n",
    "\n",
    "for i in Regressor.named_estimators:\n",
    "    print(f'Score on train data with model {i} {Regressor.named_estimators_[i].score(X_train, y_train)}')\n",
    "    print(f'Score on test data with model {i} {Regressor.named_estimators_[i].score(X_test, y_test)}')"
   ]
  },
  {
   "cell_type": "code",
   "execution_count": 10,
   "id": "2268610c",
   "metadata": {},
   "outputs": [],
   "source": [
    "Regressor1 = StackingRegressor(\n",
    "    [\n",
    "        ('LinearRegression', LinearRegression()),\n",
    "        ('KNeighborsRegressor', KNeighborsRegressor()),\n",
    "        ('DecisionTree', DecisionTreeRegressor(max_depth=8, min_samples_leaf=9, criterion='mae'))\n",
    "    ], RidgeCV())"
   ]
  },
  {
   "cell_type": "code",
   "execution_count": 11,
   "id": "985ca035",
   "metadata": {},
   "outputs": [
    {
     "data": {
      "text/plain": [
       "StackingRegressor(estimators=[('LinearRegression', LinearRegression()),\n",
       "                              ('KNeighborsRegressor', KNeighborsRegressor()),\n",
       "                              ('DecisionTree',\n",
       "                               DecisionTreeRegressor(criterion='mae',\n",
       "                                                     max_depth=8,\n",
       "                                                     min_samples_leaf=9))],\n",
       "                  final_estimator=RidgeCV(alphas=array([ 0.1,  1. , 10. ])))"
      ]
     },
     "execution_count": 11,
     "metadata": {},
     "output_type": "execute_result"
    }
   ],
   "source": [
    "Regressor1.fit(X_train, y_train)"
   ]
  },
  {
   "cell_type": "code",
   "execution_count": 12,
   "id": "cf2ab751",
   "metadata": {},
   "outputs": [
    {
     "name": "stdout",
     "output_type": "stream",
     "text": [
      "Score on train data 0.8533099053192948\n",
      "Score on test data 0.8680080520224095\n",
      "Score on train data with model LinearRegression 0.7939450162828887\n",
      "Score on test data with model LinearRegression 0.8345167287214925\n",
      "Score on train data with model KNeighborsRegressor 0.7241940903770001\n",
      "Score on test data with model KNeighborsRegressor 0.6678950902881424\n",
      "Score on train data with model DecisionTree 0.8298829720946995\n",
      "Score on test data with model DecisionTree 0.846658331951861\n"
     ]
    }
   ],
   "source": [
    "print(f'Score on train data {Regressor1.score(X_train, y_train)}')\n",
    "print(f'Score on test data {Regressor1.score(X_test, y_test)}')\n",
    "\n",
    "for i in Regressor1.named_estimators:\n",
    "    print(f'Score on train data with model {i} {Regressor1.named_estimators_[i].score(X_train, y_train)}')\n",
    "    print(f'Score on test data with model {i} {Regressor1.named_estimators_[i].score(X_test, y_test)}')"
   ]
  },
  {
   "cell_type": "markdown",
   "id": "12a65cf1",
   "metadata": {},
   "source": [
    "Качество не намного выше. Обработаем перменные так же как на уроке и сравним результаты"
   ]
  },
  {
   "cell_type": "code",
   "execution_count": 14,
   "id": "b967bf3a",
   "metadata": {},
   "outputs": [],
   "source": [
    "data_train, data_test, y_train, y_test = train_test_split(data.drop(columns='SalePrice'), data['SalePrice'], test_size=0.30, random_state=42)"
   ]
  },
  {
   "cell_type": "code",
   "execution_count": 15,
   "id": "f695550c",
   "metadata": {},
   "outputs": [],
   "source": [
    "categorials = list(data.dtypes[data.dtypes == object].index)\n",
    "categorials_nunique = data_train[categorials].nunique()\n",
    "data[categorials] = data[categorials].fillna('nan')"
   ]
  },
  {
   "cell_type": "code",
   "execution_count": 16,
   "id": "58516003",
   "metadata": {},
   "outputs": [],
   "source": [
    "integer = [f for f in data if f not in (categorials + ['ID', 'SalePrice'])]"
   ]
  },
  {
   "cell_type": "code",
   "execution_count": 17,
   "id": "e21767a2",
   "metadata": {},
   "outputs": [],
   "source": [
    "dummy_train = pd.get_dummies(data_train[categorials], columns=categorials)\n",
    "dummy_test = pd.get_dummies(data_test[categorials], columns=categorials)\n",
    "dummy_cols = list(set(dummy_train) & set(dummy_test))\n",
    "dummy_train = dummy_train[dummy_cols]\n",
    "dummy_test = dummy_test[dummy_cols]\n",
    "X_train = pd.concat([data_train[integer].fillna(-999), dummy_train], axis=1)\n",
    "X_test = pd.concat([data_test[integer].fillna(-999), dummy_test], axis=1)"
   ]
  },
  {
   "cell_type": "code",
   "execution_count": 24,
   "id": "2120c957",
   "metadata": {},
   "outputs": [],
   "source": [
    "Regressor_new = StackingRegressor(\n",
    "    [\n",
    "        ('LinearRegression', LinearRegression()),\n",
    "        ('DecisionTreeRegressor', DecisionTreeRegressor(max_depth=8, min_samples_leaf=9, criterion='mae')),\n",
    "        ('SVR', svm.SVR(kernel=\"linear\", gamma='auto'))\n",
    "    ], RidgeCV())"
   ]
  },
  {
   "cell_type": "code",
   "execution_count": 25,
   "id": "856d95e4",
   "metadata": {},
   "outputs": [
    {
     "data": {
      "text/plain": [
       "StackingRegressor(estimators=[('LinearRegression', LinearRegression()),\n",
       "                              ('DecisionTreeRegressor',\n",
       "                               DecisionTreeRegressor(criterion='mae',\n",
       "                                                     max_depth=8,\n",
       "                                                     min_samples_leaf=9)),\n",
       "                              ('SVR', SVR(gamma='auto', kernel='linear'))],\n",
       "                  final_estimator=RidgeCV(alphas=array([ 0.1,  1. , 10. ])))"
      ]
     },
     "execution_count": 25,
     "metadata": {},
     "output_type": "execute_result"
    }
   ],
   "source": [
    "Regressor_new.fit(X_train, y_train)"
   ]
  },
  {
   "cell_type": "code",
   "execution_count": 20,
   "id": "46679215",
   "metadata": {},
   "outputs": [
    {
     "name": "stdout",
     "output_type": "stream",
     "text": [
      "Score on train data 0.8906782884098084\n",
      "Score on test data 0.8813911348887876\n",
      "Score on train data with model LinearRegression 0.9221085403562431\n",
      "Score on test data with model LinearRegression 0.8533836050579311\n",
      "Score on train data with model DecisionTreeRegressor 0.8469881301763209\n",
      "Score on test data with model DecisionTreeRegressor 0.8240383394873092\n",
      "Score on train data with model SVR 0.7227878953046374\n",
      "Score on test data with model SVR 0.7904194892662872\n"
     ]
    }
   ],
   "source": [
    "print(f'Score on train data {Regressor_new.score(X_train, y_train)}')\n",
    "print(f'Score on test data {Regressor_new.score(X_test, y_test)}')\n",
    "\n",
    "for i in Regressor_new.named_estimators:\n",
    "    print(f'Score on train data with model {i} {Regressor_new.named_estimators_[i].score(X_train, y_train)}')\n",
    "    print(f'Score on test data with model {i} {Regressor_new.named_estimators_[i].score(X_test, y_test)}')"
   ]
  },
  {
   "cell_type": "code",
   "execution_count": 21,
   "id": "c8a5ef3a",
   "metadata": {},
   "outputs": [],
   "source": [
    "Regressor1_new = StackingRegressor(\n",
    "    [\n",
    "        ('LinearRegression', LinearRegression()),\n",
    "        ('KNeighborsRegressor', KNeighborsRegressor()),\n",
    "        ('DecisionTree', DecisionTreeRegressor(max_depth=8, min_samples_leaf=9, criterion='mae'))\n",
    "    ], RidgeCV())"
   ]
  },
  {
   "cell_type": "code",
   "execution_count": 22,
   "id": "e9255cc5",
   "metadata": {},
   "outputs": [
    {
     "data": {
      "text/plain": [
       "StackingRegressor(estimators=[('LinearRegression', LinearRegression()),\n",
       "                              ('KNeighborsRegressor', KNeighborsRegressor()),\n",
       "                              ('DecisionTree',\n",
       "                               DecisionTreeRegressor(criterion='mae',\n",
       "                                                     max_depth=8,\n",
       "                                                     min_samples_leaf=9))],\n",
       "                  final_estimator=RidgeCV(alphas=array([ 0.1,  1. , 10. ])))"
      ]
     },
     "execution_count": 22,
     "metadata": {},
     "output_type": "execute_result"
    }
   ],
   "source": [
    "Regressor1_new.fit(X_train, y_train)"
   ]
  },
  {
   "cell_type": "code",
   "execution_count": 26,
   "id": "14d48ed4",
   "metadata": {},
   "outputs": [
    {
     "ename": "NameError",
     "evalue": "name 'Regressor1_new' is not defined",
     "output_type": "error",
     "traceback": [
      "\u001b[0;31m---------------------------------------------------------------------------\u001b[0m",
      "\u001b[0;31mNameError\u001b[0m                                 Traceback (most recent call last)",
      "\u001b[0;32m/tmp/ipykernel_2898/3408210987.py\u001b[0m in \u001b[0;36m<module>\u001b[0;34m\u001b[0m\n\u001b[0;32m----> 1\u001b[0;31m \u001b[0mprint\u001b[0m\u001b[0;34m(\u001b[0m\u001b[0;34mf'Score on train data {Regressor1_new.score(X_train, y_train)}'\u001b[0m\u001b[0;34m)\u001b[0m\u001b[0;34m\u001b[0m\u001b[0;34m\u001b[0m\u001b[0m\n\u001b[0m\u001b[1;32m      2\u001b[0m \u001b[0mprint\u001b[0m\u001b[0;34m(\u001b[0m\u001b[0;34mf'Score on test data {Regressor1_new.score(X_test, y_test)}'\u001b[0m\u001b[0;34m)\u001b[0m\u001b[0;34m\u001b[0m\u001b[0;34m\u001b[0m\u001b[0m\n\u001b[1;32m      3\u001b[0m \u001b[0;34m\u001b[0m\u001b[0m\n\u001b[1;32m      4\u001b[0m \u001b[0;32mfor\u001b[0m \u001b[0mi\u001b[0m \u001b[0;32min\u001b[0m \u001b[0mRegressor1_new\u001b[0m\u001b[0;34m.\u001b[0m\u001b[0mnamed_estimators\u001b[0m\u001b[0;34m:\u001b[0m\u001b[0;34m\u001b[0m\u001b[0;34m\u001b[0m\u001b[0m\n\u001b[1;32m      5\u001b[0m     \u001b[0mprint\u001b[0m\u001b[0;34m(\u001b[0m\u001b[0;34mf'Score on train data with model {i} {Regressor1_new.named_estimators_[i].score(X_train, y_train)}'\u001b[0m\u001b[0;34m)\u001b[0m\u001b[0;34m\u001b[0m\u001b[0;34m\u001b[0m\u001b[0m\n",
      "\u001b[0;31mNameError\u001b[0m: name 'Regressor1_new' is not defined"
     ]
    }
   ],
   "source": [
    "print(f'Score on train data {Regressor1_new.score(X_train, y_train)}')\n",
    "print(f'Score on test data {Regressor1_new.score(X_test, y_test)}')\n",
    "\n",
    "for i in Regressor1_new.named_estimators:\n",
    "    print(f'Score on train data with model {i} {Regressor1_new.named_estimators_[i].score(X_train, y_train)}')\n",
    "    print(f'Score on test data with model {i} {Regressor1_new.named_estimators_[i].score(X_test, y_test)}')"
   ]
  },
  {
   "cell_type": "markdown",
   "id": "f79d447f",
   "metadata": {},
   "source": [
    "Качество стало выше, но не выше того, которое было получено на уроке"
   ]
  }
 ],
 "metadata": {
  "kernelspec": {
   "display_name": "Python 3 (ipykernel)",
   "language": "python",
   "name": "python3"
  },
  "language_info": {
   "codemirror_mode": {
    "name": "ipython",
    "version": 3
   },
   "file_extension": ".py",
   "mimetype": "text/x-python",
   "name": "python",
   "nbconvert_exporter": "python",
   "pygments_lexer": "ipython3",
   "version": "3.10.5"
  }
 },
 "nbformat": 4,
 "nbformat_minor": 5
}
