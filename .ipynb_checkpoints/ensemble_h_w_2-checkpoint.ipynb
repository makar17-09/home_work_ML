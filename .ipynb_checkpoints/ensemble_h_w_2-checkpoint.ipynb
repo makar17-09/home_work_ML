{
 "cells": [
  {
   "cell_type": "markdown",
   "id": "dda393af",
   "metadata": {},
   "source": [
    "# Поиск выбросов и генерация новых признаков"
   ]
  },
  {
   "cell_type": "markdown",
   "id": "11950c46",
   "metadata": {},
   "source": [
    "Теперь решаем задачу регрессии - предскажем цены на недвижимость. Использовать датасет www.kaggle.com...iques/data (train.csv)\n",
    "Данных немного, поэтому необходимо использовать 10-fold кросс-валидацию для оценки качества моделей\n",
    "Построить случайный лес, вывести важность признаков\n",
    "Обучить стекинг как минимум 3х моделей, использовать хотя бы 1 линейную модель и 1 нелинейную\n",
    "Для валидации модели 2-го уровня использовать отдельный hold-out датасет, как на занятии\n",
    "Показать, что использование ансамблей моделей действительно улучшает качество (стекинг vs другие модели сравнивать на hold-out)"
   ]
  },
  {
   "cell_type": "code",
   "execution_count": 129,
   "id": "ae331a29",
   "metadata": {},
   "outputs": [],
   "source": [
    "import pandas as pd\n",
    "import numpy as np\n",
    "from sklearn.model_selection import train_test_split\n",
    "from sklearn.ensemble import RandomForestRegressor\n",
    "from sklearn.ensemble import StackingRegressor\n",
    "from sklearn.linear_model import LinearRegression\n",
    "from sklearn.tree import DecisionTreeRegressor\n",
    "from sklearn.neighbors import KNeighborsRegressor\n",
    "from sklearn import svm\n",
    "from sklearn.linear_model import RidgeCV\n",
    "from sklearn.model_selection import KFold\n",
    "from sklearn.model_selection import cross_val_score"
   ]
  },
  {
   "cell_type": "code",
   "execution_count": 78,
   "id": "90ece8df",
   "metadata": {},
   "outputs": [],
   "source": [
    "data = pd.read_csv('train.csv')"
   ]
  },
  {
   "cell_type": "code",
   "execution_count": 79,
   "id": "f7142974",
   "metadata": {},
   "outputs": [
    {
     "name": "stdout",
     "output_type": "stream",
     "text": [
      "<class 'pandas.core.frame.DataFrame'>\n",
      "RangeIndex: 1460 entries, 0 to 1459\n",
      "Data columns (total 81 columns):\n",
      " #   Column         Non-Null Count  Dtype  \n",
      "---  ------         --------------  -----  \n",
      " 0   Id             1460 non-null   int64  \n",
      " 1   MSSubClass     1460 non-null   int64  \n",
      " 2   MSZoning       1460 non-null   object \n",
      " 3   LotFrontage    1201 non-null   float64\n",
      " 4   LotArea        1460 non-null   int64  \n",
      " 5   Street         1460 non-null   object \n",
      " 6   Alley          91 non-null     object \n",
      " 7   LotShape       1460 non-null   object \n",
      " 8   LandContour    1460 non-null   object \n",
      " 9   Utilities      1460 non-null   object \n",
      " 10  LotConfig      1460 non-null   object \n",
      " 11  LandSlope      1460 non-null   object \n",
      " 12  Neighborhood   1460 non-null   object \n",
      " 13  Condition1     1460 non-null   object \n",
      " 14  Condition2     1460 non-null   object \n",
      " 15  BldgType       1460 non-null   object \n",
      " 16  HouseStyle     1460 non-null   object \n",
      " 17  OverallQual    1460 non-null   int64  \n",
      " 18  OverallCond    1460 non-null   int64  \n",
      " 19  YearBuilt      1460 non-null   int64  \n",
      " 20  YearRemodAdd   1460 non-null   int64  \n",
      " 21  RoofStyle      1460 non-null   object \n",
      " 22  RoofMatl       1460 non-null   object \n",
      " 23  Exterior1st    1460 non-null   object \n",
      " 24  Exterior2nd    1460 non-null   object \n",
      " 25  MasVnrType     1452 non-null   object \n",
      " 26  MasVnrArea     1452 non-null   float64\n",
      " 27  ExterQual      1460 non-null   object \n",
      " 28  ExterCond      1460 non-null   object \n",
      " 29  Foundation     1460 non-null   object \n",
      " 30  BsmtQual       1423 non-null   object \n",
      " 31  BsmtCond       1423 non-null   object \n",
      " 32  BsmtExposure   1422 non-null   object \n",
      " 33  BsmtFinType1   1423 non-null   object \n",
      " 34  BsmtFinSF1     1460 non-null   int64  \n",
      " 35  BsmtFinType2   1422 non-null   object \n",
      " 36  BsmtFinSF2     1460 non-null   int64  \n",
      " 37  BsmtUnfSF      1460 non-null   int64  \n",
      " 38  TotalBsmtSF    1460 non-null   int64  \n",
      " 39  Heating        1460 non-null   object \n",
      " 40  HeatingQC      1460 non-null   object \n",
      " 41  CentralAir     1460 non-null   object \n",
      " 42  Electrical     1459 non-null   object \n",
      " 43  1stFlrSF       1460 non-null   int64  \n",
      " 44  2ndFlrSF       1460 non-null   int64  \n",
      " 45  LowQualFinSF   1460 non-null   int64  \n",
      " 46  GrLivArea      1460 non-null   int64  \n",
      " 47  BsmtFullBath   1460 non-null   int64  \n",
      " 48  BsmtHalfBath   1460 non-null   int64  \n",
      " 49  FullBath       1460 non-null   int64  \n",
      " 50  HalfBath       1460 non-null   int64  \n",
      " 51  BedroomAbvGr   1460 non-null   int64  \n",
      " 52  KitchenAbvGr   1460 non-null   int64  \n",
      " 53  KitchenQual    1460 non-null   object \n",
      " 54  TotRmsAbvGrd   1460 non-null   int64  \n",
      " 55  Functional     1460 non-null   object \n",
      " 56  Fireplaces     1460 non-null   int64  \n",
      " 57  FireplaceQu    770 non-null    object \n",
      " 58  GarageType     1379 non-null   object \n",
      " 59  GarageYrBlt    1379 non-null   float64\n",
      " 60  GarageFinish   1379 non-null   object \n",
      " 61  GarageCars     1460 non-null   int64  \n",
      " 62  GarageArea     1460 non-null   int64  \n",
      " 63  GarageQual     1379 non-null   object \n",
      " 64  GarageCond     1379 non-null   object \n",
      " 65  PavedDrive     1460 non-null   object \n",
      " 66  WoodDeckSF     1460 non-null   int64  \n",
      " 67  OpenPorchSF    1460 non-null   int64  \n",
      " 68  EnclosedPorch  1460 non-null   int64  \n",
      " 69  3SsnPorch      1460 non-null   int64  \n",
      " 70  ScreenPorch    1460 non-null   int64  \n",
      " 71  PoolArea       1460 non-null   int64  \n",
      " 72  PoolQC         7 non-null      object \n",
      " 73  Fence          281 non-null    object \n",
      " 74  MiscFeature    54 non-null     object \n",
      " 75  MiscVal        1460 non-null   int64  \n",
      " 76  MoSold         1460 non-null   int64  \n",
      " 77  YrSold         1460 non-null   int64  \n",
      " 78  SaleType       1460 non-null   object \n",
      " 79  SaleCondition  1460 non-null   object \n",
      " 80  SalePrice      1460 non-null   int64  \n",
      "dtypes: float64(3), int64(35), object(43)\n",
      "memory usage: 924.0+ KB\n"
     ]
    }
   ],
   "source": [
    "data.info()"
   ]
  },
  {
   "cell_type": "markdown",
   "id": "bda0907a",
   "metadata": {},
   "source": [
    "Тип доступа к собственности по аллее - много пропусков и не особо информативный признак, MiscFeature - просто разные ф-ии, тоже много пропусков, Id не несет важной информации. Удалим эти столбцы"
   ]
  },
  {
   "cell_type": "code",
   "execution_count": 80,
   "id": "a680d258",
   "metadata": {},
   "outputs": [],
   "source": [
    "data.drop(labels = [\"Alley\", \"MiscFeature\", \"Id\"], axis = 1, inplace = True)"
   ]
  },
  {
   "cell_type": "code",
   "execution_count": 81,
   "id": "58ac620d",
   "metadata": {},
   "outputs": [],
   "source": [
    "X = data.iloc[:,:-1]"
   ]
  },
  {
   "cell_type": "code",
   "execution_count": 82,
   "id": "6294ef74",
   "metadata": {},
   "outputs": [],
   "source": [
    "y = data.iloc[:,-1]"
   ]
  },
  {
   "cell_type": "markdown",
   "id": "172fa7ef",
   "metadata": {},
   "source": [
    "Т.к. камин, бассейн и пр. могут просто не встречаться в других домах, то заполним пропущенные значения nan"
   ]
  },
  {
   "cell_type": "code",
   "execution_count": 83,
   "id": "5c200d53",
   "metadata": {},
   "outputs": [],
   "source": [
    "categorials = list(data.dtypes[data.dtypes == object].index)\n",
    "categorials_nunique = X[categorials].nunique()\n",
    "data[categorials] = data[categorials].fillna('nan')\n",
    "dummy_train = pd.get_dummies(X[categorials], columns=categorials)\n",
    "dummy_cols = list(set(dummy_train))\n",
    "dummy_train = dummy_train[dummy_cols]"
   ]
  },
  {
   "cell_type": "code",
   "execution_count": 131,
   "id": "f6cede1f",
   "metadata": {},
   "outputs": [],
   "source": [
    "integer = [f for f in data if f not in (categorials + ['SalePrice'])]\n",
    "X = pd.concat([X[integer].fillna(-999), dummy_train], axis=1)"
   ]
  },
  {
   "cell_type": "markdown",
   "id": "2cb0854b",
   "metadata": {},
   "source": [
    "Используем 10-fold кросс-валидацию для оценки качества моделей"
   ]
  },
  {
   "cell_type": "code",
   "execution_count": 132,
   "id": "79d9ca9e",
   "metadata": {},
   "outputs": [],
   "source": [
    "kf = KFold(n_splits=10)"
   ]
  },
  {
   "cell_type": "markdown",
   "id": "96d2c6e9",
   "metadata": {},
   "source": [
    "Построим случайный лес и выведем оценки по фолдам и среднюю оценку"
   ]
  },
  {
   "cell_type": "code",
   "execution_count": 133,
   "id": "6740fb13",
   "metadata": {},
   "outputs": [],
   "source": [
    "clf_rf = RandomForestRegressor()\n",
    "scores = cross_val_score(clf_rf, X, y, cv=kf) #scoring='neg_mean_absolute_error'"
   ]
  },
  {
   "cell_type": "code",
   "execution_count": 134,
   "id": "0e9ae4c4",
   "metadata": {},
   "outputs": [
    {
     "data": {
      "text/plain": [
       "array([0.87076551, 0.88896553, 0.92204482, 0.77908679, 0.87677517,\n",
       "       0.89456428, 0.89453869, 0.88274752, 0.79111334, 0.85686142])"
      ]
     },
     "execution_count": 134,
     "metadata": {},
     "output_type": "execute_result"
    }
   ],
   "source": [
    "scores"
   ]
  },
  {
   "cell_type": "code",
   "execution_count": 135,
   "id": "53221b79",
   "metadata": {},
   "outputs": [
    {
     "data": {
      "text/plain": [
       "0.8657463075726696"
      ]
     },
     "execution_count": 135,
     "metadata": {},
     "output_type": "execute_result"
    }
   ],
   "source": [
    "np.mean(np.absolute(scores))"
   ]
  },
  {
   "cell_type": "markdown",
   "id": "8604cb19",
   "metadata": {},
   "source": [
    "Оценка без KFold была выше (0.9742740250222833, 0.8977118156833898). Обучим стекинг с моделями: LinearRegression, DecisionTreeRegressor, KNeighborsRegressor. В DecisionTreeRegressor укажем параметры, т.к. с параметрами не будет переобучения. Оставим KNeighborsRegressor как в лекции \"Ансамблирование\", т.к. оценка выше. Разобъем выборки на train и test"
   ]
  },
  {
   "cell_type": "code",
   "execution_count": 139,
   "id": "0a3890d6",
   "metadata": {},
   "outputs": [],
   "source": [
    "X_train, X_test, y_train, y_test = train_test_split(X, y, test_size=0.3, random_state=42)"
   ]
  },
  {
   "cell_type": "code",
   "execution_count": 140,
   "id": "2d36a3da",
   "metadata": {},
   "outputs": [],
   "source": [
    "Regressor = StackingRegressor(\n",
    "    [\n",
    "        ('LinearRegression', LinearRegression()),\n",
    "        ('DecisionTreeRegressor', DecisionTreeRegressor(max_depth=8, min_samples_leaf=9, criterion='mae')),\n",
    "        ('KNeighborsRegressor', KNeighborsRegressor())\n",
    "    ], RidgeCV())"
   ]
  },
  {
   "cell_type": "code",
   "execution_count": 141,
   "id": "b909e883",
   "metadata": {},
   "outputs": [
    {
     "data": {
      "text/plain": [
       "StackingRegressor(estimators=[('LinearRegression', LinearRegression()),\n",
       "                              ('DecisionTreeRegressor',\n",
       "                               DecisionTreeRegressor(criterion='mae',\n",
       "                                                     max_depth=8,\n",
       "                                                     min_samples_leaf=9)),\n",
       "                              ('KNeighborsRegressor', KNeighborsRegressor())],\n",
       "                  final_estimator=RidgeCV(alphas=array([ 0.1,  1. , 10. ])))"
      ]
     },
     "execution_count": 141,
     "metadata": {},
     "output_type": "execute_result"
    }
   ],
   "source": [
    "Regressor.fit(X_train, y_train)"
   ]
  },
  {
   "cell_type": "code",
   "execution_count": 142,
   "id": "e22072f5",
   "metadata": {},
   "outputs": [
    {
     "name": "stdout",
     "output_type": "stream",
     "text": [
      "Score on train data 0.9163407937701313\n",
      "Score on test data 0.8203169075309901\n",
      "Score on train data with model LinearRegression 0.94032073756504\n",
      "Score on test data with model LinearRegression 0.32037834425707346\n",
      "Score on train data with model DecisionTreeRegressor 0.8475221669957198\n",
      "Score on test data with model DecisionTreeRegressor 0.8247724640390619\n",
      "Score on train data with model KNeighborsRegressor 0.750184842189582\n",
      "Score on test data with model KNeighborsRegressor 0.676138613361793\n"
     ]
    }
   ],
   "source": [
    "print(f'Score on train data {Regressor.score(X_train, y_train)}')\n",
    "print(f'Score on test data {Regressor.score(X_test, y_test)}')\n",
    "\n",
    "for i in Regressor.named_estimators:\n",
    "    print(f'Score on train data with model {i} {Regressor.named_estimators_[i].score(X_train, y_train)}')\n",
    "    print(f'Score on test data with model {i} {Regressor.named_estimators_[i].score(X_test, y_test)}')"
   ]
  },
  {
   "cell_type": "markdown",
   "id": "178a5a58",
   "metadata": {},
   "source": [
    "Обучим Линейную регрессию для сравнения качества на тех же выборках"
   ]
  },
  {
   "cell_type": "code",
   "execution_count": 143,
   "id": "20fa8872",
   "metadata": {},
   "outputs": [],
   "source": [
    "model = LinearRegression()"
   ]
  },
  {
   "cell_type": "code",
   "execution_count": 144,
   "id": "e29d382f",
   "metadata": {},
   "outputs": [
    {
     "data": {
      "text/plain": [
       "LinearRegression()"
      ]
     },
     "execution_count": 144,
     "metadata": {},
     "output_type": "execute_result"
    }
   ],
   "source": [
    "model.fit(X_train, y_train)"
   ]
  },
  {
   "cell_type": "code",
   "execution_count": 145,
   "id": "de721a33",
   "metadata": {},
   "outputs": [
    {
     "data": {
      "text/plain": [
       "0.94032073756504"
      ]
     },
     "execution_count": 145,
     "metadata": {},
     "output_type": "execute_result"
    }
   ],
   "source": [
    "model.score(X_train, y_train)"
   ]
  },
  {
   "cell_type": "code",
   "execution_count": 146,
   "id": "e147a4eb",
   "metadata": {},
   "outputs": [
    {
     "data": {
      "text/plain": [
       "0.32037834425707346"
      ]
     },
     "execution_count": 146,
     "metadata": {},
     "output_type": "execute_result"
    }
   ],
   "source": [
    "model.score(X_test, y_test)"
   ]
  },
  {
   "cell_type": "markdown",
   "id": "c1d25c1f",
   "metadata": {},
   "source": [
    "Качество на обучении выше стэка, но на тесте оно сильно упало"
   ]
  },
  {
   "cell_type": "code",
   "execution_count": null,
   "id": "0e980b17",
   "metadata": {},
   "outputs": [],
   "source": []
  }
 ],
 "metadata": {
  "kernelspec": {
   "display_name": "Python 3 (ipykernel)",
   "language": "python",
   "name": "python3"
  },
  "language_info": {
   "codemirror_mode": {
    "name": "ipython",
    "version": 3
   },
   "file_extension": ".py",
   "mimetype": "text/x-python",
   "name": "python",
   "nbconvert_exporter": "python",
   "pygments_lexer": "ipython3",
   "version": "3.10.5"
  }
 },
 "nbformat": 4,
 "nbformat_minor": 5
}
