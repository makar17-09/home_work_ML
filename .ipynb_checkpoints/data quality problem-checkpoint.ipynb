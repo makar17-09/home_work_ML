{
 "cells": [
  {
   "cell_type": "markdown",
   "metadata": {},
   "source": [
    "# Проблема качества данных"
   ]
  },
  {
   "cell_type": "markdown",
   "metadata": {},
   "source": [
    "Необходимо запустить практическую часть занятия, и посмотреть самому то, о чём говорили на лекции. По образу практики, попробуйте создать искусственный датасет с лишними столбцами. Целевую метку, при правильной обработке данных, формируйте таким образом, чтобы без затруднений её смогла описать линейная модель. Ориентируйтесь на то, что было показано во время занятия, и каждый шаг описывайте в markdown. Здесь важно видеть ваш ход мысли. Не бойтесь ошибиться или написать не то. Данное задание не имеет какого-то “правильного” решения. Цель - достичь базового понимания проблемы. Чем больше вы фантазируете, тем лучше :) Тем не менее, старайтесь представить те ситуации, которые по-вашему мнению могли бы быть в реальных данных."
   ]
  },
  {
   "cell_type": "code",
   "execution_count": 25,
   "metadata": {},
   "outputs": [],
   "source": [
    "import numpy as np\n",
    "import pandas as pd\n",
    "from sklearn.linear_model import LinearRegression\n",
    "from sklearn.metrics import mean_absolute_error"
   ]
  },
  {
   "cell_type": "markdown",
   "metadata": {},
   "source": [
    "Пример. В магазине имеется отделочный материал (гипсокартон еще к-л плиты для отделки). У плит есть характеристики: длина, ширина, толщина и влагостойкость. Стоимость 1 м3 плиты 3 у.е., наличие влагостойкого покрытия 50 у.е., магазин добавляет к стоимости плиты 93 у.е. комиссии."
   ]
  },
  {
   "cell_type": "code",
   "execution_count": 26,
   "metadata": {},
   "outputs": [
    {
     "data": {
      "text/html": [
       "<div>\n",
       "<style scoped>\n",
       "    .dataframe tbody tr th:only-of-type {\n",
       "        vertical-align: middle;\n",
       "    }\n",
       "\n",
       "    .dataframe tbody tr th {\n",
       "        vertical-align: top;\n",
       "    }\n",
       "\n",
       "    .dataframe thead th {\n",
       "        text-align: right;\n",
       "    }\n",
       "</style>\n",
       "<table border=\"1\" class=\"dataframe\">\n",
       "  <thead>\n",
       "    <tr style=\"text-align: right;\">\n",
       "      <th></th>\n",
       "      <th>length</th>\n",
       "      <th>width</th>\n",
       "      <th>thickness</th>\n",
       "      <th>moisture resistance</th>\n",
       "      <th>price</th>\n",
       "    </tr>\n",
       "  </thead>\n",
       "  <tbody>\n",
       "    <tr>\n",
       "      <td>0</td>\n",
       "      <td>245</td>\n",
       "      <td>103</td>\n",
       "      <td>0.0</td>\n",
       "      <td>1</td>\n",
       "      <td>143.0</td>\n",
       "    </tr>\n",
       "    <tr>\n",
       "      <td>1</td>\n",
       "      <td>228</td>\n",
       "      <td>52</td>\n",
       "      <td>0.3</td>\n",
       "      <td>1</td>\n",
       "      <td>10813.4</td>\n",
       "    </tr>\n",
       "    <tr>\n",
       "      <td>2</td>\n",
       "      <td>195</td>\n",
       "      <td>82</td>\n",
       "      <td>0.1</td>\n",
       "      <td>1</td>\n",
       "      <td>4940.0</td>\n",
       "    </tr>\n",
       "    <tr>\n",
       "      <td>3</td>\n",
       "      <td>348</td>\n",
       "      <td>20</td>\n",
       "      <td>0.0</td>\n",
       "      <td>0</td>\n",
       "      <td>93.0</td>\n",
       "    </tr>\n",
       "    <tr>\n",
       "      <td>4</td>\n",
       "      <td>121</td>\n",
       "      <td>39</td>\n",
       "      <td>0.3</td>\n",
       "      <td>1</td>\n",
       "      <td>4390.1</td>\n",
       "    </tr>\n",
       "  </tbody>\n",
       "</table>\n",
       "</div>"
      ],
      "text/plain": [
       "   length  width  thickness  moisture resistance    price\n",
       "0     245    103        0.0                    1    143.0\n",
       "1     228     52        0.3                    1  10813.4\n",
       "2     195     82        0.1                    1   4940.0\n",
       "3     348     20        0.0                    0     93.0\n",
       "4     121     39        0.3                    1   4390.1"
      ]
     },
     "execution_count": 26,
     "metadata": {},
     "output_type": "execute_result"
    }
   ],
   "source": [
    "n_samples = 1000\n",
    "\n",
    "length = np.random.choice(500, n_samples) + 20\n",
    "width = np.random.choice(100, n_samples) + 15\n",
    "thickness = np.random.choice(5, n_samples) / 10\n",
    "moisture_resistance = np.random.choice([0, 1], n_samples)\n",
    "\n",
    "price = length * width * thickness * 3 + moisture_resistance * 50 + 93\n",
    "\n",
    "data = pd.DataFrame({ 'length': length, 'width': width, 'thickness' : thickness, 'moisture resistance' : moisture_resistance, 'price': price})\n",
    "data.head(5)"
   ]
  },
  {
   "cell_type": "code",
   "execution_count": 27,
   "metadata": {},
   "outputs": [
    {
     "name": "stdout",
     "output_type": "stream",
     "text": [
      "Weights: [ 4.12866681e+01  1.75888668e+02  5.42654215e+04 -6.65382523e+01]\n",
      "Bias: -22777.85481491086\n",
      "Error: 4249.92650108966\n"
     ]
    }
   ],
   "source": [
    "X = data[['length', 'width', 'thickness', 'moisture resistance']]\n",
    "y = data['price']\n",
    "reg = LinearRegression().fit(X, y)\n",
    "print('Weights: {}'.format(reg.coef_))\n",
    "print('Bias: {}'.format(reg.intercept_))\n",
    "\n",
    "pred_values = reg.predict(data[['length', 'width', 'thickness', 'moisture resistance']])\n",
    "print('Error: {}'.format(mean_absolute_error(pred_values, y)))"
   ]
  },
  {
   "cell_type": "markdown",
   "metadata": {},
   "source": [
    "Создадим новый признак, опираясь на догадку, что цена зависит от размера плиты"
   ]
  },
  {
   "cell_type": "code",
   "execution_count": 28,
   "metadata": {},
   "outputs": [
    {
     "data": {
      "text/html": [
       "<div>\n",
       "<style scoped>\n",
       "    .dataframe tbody tr th:only-of-type {\n",
       "        vertical-align: middle;\n",
       "    }\n",
       "\n",
       "    .dataframe tbody tr th {\n",
       "        vertical-align: top;\n",
       "    }\n",
       "\n",
       "    .dataframe thead th {\n",
       "        text-align: right;\n",
       "    }\n",
       "</style>\n",
       "<table border=\"1\" class=\"dataframe\">\n",
       "  <thead>\n",
       "    <tr style=\"text-align: right;\">\n",
       "      <th></th>\n",
       "      <th>length</th>\n",
       "      <th>width</th>\n",
       "      <th>thickness</th>\n",
       "      <th>moisture resistance</th>\n",
       "      <th>price</th>\n",
       "      <th>size</th>\n",
       "    </tr>\n",
       "  </thead>\n",
       "  <tbody>\n",
       "    <tr>\n",
       "      <td>0</td>\n",
       "      <td>245</td>\n",
       "      <td>103</td>\n",
       "      <td>0.0</td>\n",
       "      <td>1</td>\n",
       "      <td>143.0</td>\n",
       "      <td>0.0</td>\n",
       "    </tr>\n",
       "    <tr>\n",
       "      <td>1</td>\n",
       "      <td>228</td>\n",
       "      <td>52</td>\n",
       "      <td>0.3</td>\n",
       "      <td>1</td>\n",
       "      <td>10813.4</td>\n",
       "      <td>3556.8</td>\n",
       "    </tr>\n",
       "    <tr>\n",
       "      <td>2</td>\n",
       "      <td>195</td>\n",
       "      <td>82</td>\n",
       "      <td>0.1</td>\n",
       "      <td>1</td>\n",
       "      <td>4940.0</td>\n",
       "      <td>1599.0</td>\n",
       "    </tr>\n",
       "    <tr>\n",
       "      <td>3</td>\n",
       "      <td>348</td>\n",
       "      <td>20</td>\n",
       "      <td>0.0</td>\n",
       "      <td>0</td>\n",
       "      <td>93.0</td>\n",
       "      <td>0.0</td>\n",
       "    </tr>\n",
       "    <tr>\n",
       "      <td>4</td>\n",
       "      <td>121</td>\n",
       "      <td>39</td>\n",
       "      <td>0.3</td>\n",
       "      <td>1</td>\n",
       "      <td>4390.1</td>\n",
       "      <td>1415.7</td>\n",
       "    </tr>\n",
       "  </tbody>\n",
       "</table>\n",
       "</div>"
      ],
      "text/plain": [
       "   length  width  thickness  moisture resistance    price    size\n",
       "0     245    103        0.0                    1    143.0     0.0\n",
       "1     228     52        0.3                    1  10813.4  3556.8\n",
       "2     195     82        0.1                    1   4940.0  1599.0\n",
       "3     348     20        0.0                    0     93.0     0.0\n",
       "4     121     39        0.3                    1   4390.1  1415.7"
      ]
     },
     "execution_count": 28,
     "metadata": {},
     "output_type": "execute_result"
    }
   ],
   "source": [
    "data['size'] = data['length'] * data['width'] * data['thickness']\n",
    "data.head(5)"
   ]
  },
  {
   "cell_type": "markdown",
   "metadata": {},
   "source": [
    "Обучаем модель"
   ]
  },
  {
   "cell_type": "code",
   "execution_count": 29,
   "metadata": {},
   "outputs": [
    {
     "name": "stdout",
     "output_type": "stream",
     "text": [
      "Weights: [2.99961844]\n",
      "Bias: 119.50562378757604\n",
      "Error: 24.902712579643715\n"
     ]
    }
   ],
   "source": [
    "X = data[['size']]\n",
    "y = data['price']\n",
    "reg = LinearRegression().fit(X, y)\n",
    "print('Weights: {}'.format(reg.coef_))\n",
    "print('Bias: {}'.format(reg.intercept_))\n",
    "\n",
    "pred_values = reg.predict(data[['size']])\n",
    "print('Error: {}'.format(mean_absolute_error(pred_values, y)))"
   ]
  },
  {
   "cell_type": "markdown",
   "metadata": {},
   "source": [
    "Делаем предположение, что цена зависит и от наличия влагоустойчивости"
   ]
  },
  {
   "cell_type": "code",
   "execution_count": 30,
   "metadata": {},
   "outputs": [
    {
     "name": "stdout",
     "output_type": "stream",
     "text": [
      "Weights: [ 3. 50.]\n",
      "Bias: 93.00000000000364\n",
      "Error: 5.38668132321618e-12\n"
     ]
    }
   ],
   "source": [
    "X = data[['size', 'moisture resistance']]\n",
    "y = data['price']\n",
    "reg = LinearRegression().fit(X, y)\n",
    "print('Weights: {}'.format(reg.coef_))\n",
    "print('Bias: {}'.format(reg.intercept_))\n",
    "\n",
    "pred_values = reg.predict(data[['size', 'moisture resistance']])\n",
    "print('Error: {}'.format(mean_absolute_error(pred_values, y)))"
   ]
  },
  {
   "cell_type": "markdown",
   "metadata": {},
   "source": [
    "Коеффициенты предсказаны, ошибка снизилась"
   ]
  },
  {
   "cell_type": "code",
   "execution_count": null,
   "metadata": {},
   "outputs": [],
   "source": []
  },
  {
   "cell_type": "code",
   "execution_count": null,
   "metadata": {},
   "outputs": [],
   "source": []
  }
 ],
 "metadata": {
  "kernelspec": {
   "display_name": "Python 3 (ipykernel)",
   "language": "python",
   "name": "python3"
  },
  "language_info": {
   "codemirror_mode": {
    "name": "ipython",
    "version": 3
   },
   "file_extension": ".py",
   "mimetype": "text/x-python",
   "name": "python",
   "nbconvert_exporter": "python",
   "pygments_lexer": "ipython3",
   "version": "3.10.5"
  }
 },
 "nbformat": 4,
 "nbformat_minor": 4
}
